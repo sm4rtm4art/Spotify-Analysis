{
 "cells": [
  {
   "cell_type": "markdown",
   "metadata": {},
   "source": [
    "# Spotify 900+ Song Dataset\n",
    "\n",
    "This notebook should give a small overview over the data of the [Spotify Dataset](https://www.kaggle.com/datasets/devdope/900k-spotify). This is seen as a purly investigative analysis starting with a Data Engineering, over a small EDA and then suggestions for further steps"
   ]
  },
  {
   "cell_type": "markdown",
   "metadata": {},
   "source": [
    "## Import "
   ]
  },
  {
   "cell_type": "code",
   "execution_count": 31,
   "metadata": {},
   "outputs": [],
   "source": [
    "import pandas as pd\n",
    "import polars as pl\n",
    "import numpy as np \n",
    "import seaborn as sb\n",
    "import matplotlib.pyplot as plt\n",
    "from pathlib import Path\n",
    "import sys\n",
    "import os\n",
    "\n",
    "# Add parent directory to path to import spotify package,\n",
    "sys.path.insert(0, '..')\n",
    "from src.spotify.download_dataset import explore_dataset"
   ]
  },
  {
   "cell_type": "code",
   "execution_count": 35,
   "metadata": {},
   "outputs": [],
   "source": [
    "df = pl.read_csv(\"../data/spotify_dataset.csv\")\n",
    "\n",
    "df_pd =pd.read_csv(\"../data/spotify_dataset.csv\")\n"
   ]
  },
  {
   "cell_type": "code",
   "execution_count": 39,
   "metadata": {},
   "outputs": [
    {
     "name": "stdout",
     "output_type": "stream",
     "text": [
      "<class 'pandas.core.frame.DataFrame'>\n",
      "RangeIndex: 551443 entries, 0 to 551442\n",
      "Data columns (total 39 columns):\n",
      " #   Column                          Non-Null Count   Dtype  \n",
      "---  ------                          --------------   -----  \n",
      " 0   Artist(s)                       551443 non-null  object \n",
      " 1   song                            551427 non-null  object \n",
      " 2   text                            551443 non-null  object \n",
      " 3   Length                          551443 non-null  object \n",
      " 4   emotion                         551443 non-null  object \n",
      " 5   Genre                           551443 non-null  object \n",
      " 6   Album                           551391 non-null  object \n",
      " 7   Release Date                    551443 non-null  object \n",
      " 8   Key                             551443 non-null  object \n",
      " 9   Tempo                           551443 non-null  int64  \n",
      " 10  Loudness (db)                   551443 non-null  object \n",
      " 11  Time signature                  551435 non-null  object \n",
      " 12  Explicit                        551443 non-null  object \n",
      " 13  Popularity                      551443 non-null  int64  \n",
      " 14  Energy                          551443 non-null  int64  \n",
      " 15  Danceability                    551443 non-null  int64  \n",
      " 16  Positiveness                    551443 non-null  int64  \n",
      " 17  Speechiness                     551443 non-null  int64  \n",
      " 18  Liveness                        551443 non-null  int64  \n",
      " 19  Acousticness                    551443 non-null  int64  \n",
      " 20  Instrumentalness                551443 non-null  int64  \n",
      " 21  Good for Party                  551443 non-null  int64  \n",
      " 22  Good for Work/Study             551443 non-null  int64  \n",
      " 23  Good for Relaxation/Meditation  551443 non-null  int64  \n",
      " 24  Good for Exercise               551443 non-null  int64  \n",
      " 25  Good for Running                551443 non-null  int64  \n",
      " 26  Good for Yoga/Stretching        551443 non-null  int64  \n",
      " 27  Good for Driving                551443 non-null  int64  \n",
      " 28  Good for Social Gatherings      551443 non-null  int64  \n",
      " 29  Good for Morning Routine        551443 non-null  int64  \n",
      " 30  Similar Artist 1                551443 non-null  object \n",
      " 31  Similar Song 1                  551424 non-null  object \n",
      " 32  Similarity Score 1              551443 non-null  float64\n",
      " 33  Similar Artist 2                551443 non-null  object \n",
      " 34  Similar Song 2                  551423 non-null  object \n",
      " 35  Similarity Score 2              551443 non-null  float64\n",
      " 36  Similar Artist 3                551443 non-null  object \n",
      " 37  Similar Song 3                  551439 non-null  object \n",
      " 38  Similarity Score 3              551443 non-null  float64\n",
      "dtypes: float64(3), int64(18), object(18)\n",
      "memory usage: 1.8 GB\n"
     ]
    }
   ],
   "source": [
    "df_pd.info(verbose=True, memory_usage=\"deep\")"
   ]
  },
  {
   "cell_type": "code",
   "execution_count": null,
   "metadata": {},
   "outputs": [],
   "source": []
  }
 ],
 "metadata": {
  "kernelspec": {
   "display_name": "spotify_env",
   "language": "python",
   "name": "python3"
  },
  "language_info": {
   "codemirror_mode": {
    "name": "ipython",
    "version": 3
   },
   "file_extension": ".py",
   "mimetype": "text/x-python",
   "name": "python",
   "nbconvert_exporter": "python",
   "pygments_lexer": "ipython3",
   "version": "3.12.1"
  }
 },
 "nbformat": 4,
 "nbformat_minor": 2
}
